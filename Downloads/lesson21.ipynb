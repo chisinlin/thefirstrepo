{
 "cells": [
  {
   "cell_type": "markdown",
   "id": "17f4e58b",
   "metadata": {},
   "source": [
    "## Lesson 21 - Google Play BERT Sentiment Classifier\n",
    "\n",
    "\n",
    "\n",
    "\n",
    "### Table of Contents\n",
    "* [Import and download package](#import)\n",
    "* [Load Dataset](#load)\n",
    "* [Prepare training , validation  data](#training_data)\n",
    "* [Decide max_len](#max_len)\n",
    "* [Dataset and Dataloader](#dataset)\n",
    "* [Model Selection](#model_selection)\n",
    "* [Load our own bert model](#load_own_bert)\n",
    "* [Testing model performance on unseen data](#testing)\n"
   ]
  },
  {
   "cell_type": "markdown",
   "id": "45e3230a",
   "metadata": {},
   "source": [
    "<a id=\"import\"></a>\n",
    "## Import and download package"
   ]
  },
  {
   "cell_type": "code",
   "execution_count": 1,
   "id": "3be741fa",
   "metadata": {},
   "outputs": [],
   "source": [
    "import torch\n",
    "import json\n",
    "import pickle\n",
    "import pandas as pd\n",
    "import numpy as np\n",
    "# import swifter\n",
    "import torch.nn as nn\n",
    "\n",
    "from tqdm import tqdm\n",
    "from transformers import BertModel\n",
    "from torch.utils.data import Dataset, DataLoader\n",
    "from sklearn.model_selection import train_test_split"
   ]
  },
  {
   "cell_type": "code",
   "execution_count": 2,
   "id": "060ea60f",
   "metadata": {},
   "outputs": [
    {
     "name": "stdout",
     "output_type": "stream",
     "text": [
      "Collecting sentence-transformers\n",
      "  Using cached sentence_transformers-2.2.2-py3-none-any.whl\n",
      "Requirement already satisfied: scipy in r:\\anaconda3\\envs\\gpt\\lib\\site-packages (from sentence-transformers) (1.4.1)\n",
      "Collecting nltk\n",
      "  Using cached nltk-3.8.1-py3-none-any.whl (1.5 MB)\n",
      "Requirement already satisfied: torchvision in r:\\anaconda3\\envs\\gpt\\lib\\site-packages (from sentence-transformers) (0.9.1+cu101)\n",
      "Requirement already satisfied: huggingface-hub>=0.4.0 in r:\\anaconda3\\envs\\gpt\\lib\\site-packages (from sentence-transformers) (0.14.1)\n",
      "Requirement already satisfied: scikit-learn in r:\\anaconda3\\envs\\gpt\\lib\\site-packages (from sentence-transformers) (1.0.2)\n",
      "Requirement already satisfied: numpy in r:\\anaconda3\\envs\\gpt\\lib\\site-packages (from sentence-transformers) (1.18.5)\n",
      "Collecting sentencepiece\n",
      "  Using cached sentencepiece-0.1.99-cp37-cp37m-win_amd64.whl (977 kB)\n",
      "Requirement already satisfied: tqdm in r:\\anaconda3\\envs\\gpt\\lib\\site-packages (from sentence-transformers) (4.65.0)\n",
      "Requirement already satisfied: torch>=1.6.0 in r:\\anaconda3\\envs\\gpt\\lib\\site-packages (from sentence-transformers) (1.8.1+cu101)\n",
      "Requirement already satisfied: transformers<5.0.0,>=4.6.0 in r:\\anaconda3\\envs\\gpt\\lib\\site-packages (from sentence-transformers) (4.29.2)\n",
      "Requirement already satisfied: filelock in r:\\anaconda3\\envs\\gpt\\lib\\site-packages (from huggingface-hub>=0.4.0->sentence-transformers) (3.12.0)\n",
      "Requirement already satisfied: fsspec in r:\\anaconda3\\envs\\gpt\\lib\\site-packages (from huggingface-hub>=0.4.0->sentence-transformers) (2023.1.0)\n",
      "Requirement already satisfied: pyyaml>=5.1 in r:\\anaconda3\\envs\\gpt\\lib\\site-packages (from huggingface-hub>=0.4.0->sentence-transformers) (6.0)\n",
      "Requirement already satisfied: requests in r:\\anaconda3\\envs\\gpt\\lib\\site-packages (from huggingface-hub>=0.4.0->sentence-transformers) (2.30.0)\n",
      "Requirement already satisfied: packaging>=20.9 in r:\\anaconda3\\envs\\gpt\\lib\\site-packages (from huggingface-hub>=0.4.0->sentence-transformers) (23.1)\n",
      "Requirement already satisfied: typing-extensions>=3.7.4.3 in r:\\anaconda3\\envs\\gpt\\lib\\site-packages (from huggingface-hub>=0.4.0->sentence-transformers) (4.5.0)\n",
      "Requirement already satisfied: importlib-metadata in r:\\anaconda3\\envs\\gpt\\lib\\site-packages (from huggingface-hub>=0.4.0->sentence-transformers) (4.13.0)\n",
      "Requirement already satisfied: colorama in r:\\anaconda3\\envs\\gpt\\lib\\site-packages (from tqdm->sentence-transformers) (0.4.6)\n",
      "Requirement already satisfied: regex!=2019.12.17 in r:\\anaconda3\\envs\\gpt\\lib\\site-packages (from transformers<5.0.0,>=4.6.0->sentence-transformers) (2023.5.5)\n",
      "Requirement already satisfied: tokenizers!=0.11.3,<0.14,>=0.11.1 in r:\\anaconda3\\envs\\gpt\\lib\\site-packages (from transformers<5.0.0,>=4.6.0->sentence-transformers) (0.13.3)\n",
      "Requirement already satisfied: joblib in r:\\anaconda3\\envs\\gpt\\lib\\site-packages (from nltk->sentence-transformers) (1.2.0)\n",
      "Collecting click\n",
      "  Using cached click-8.1.3-py3-none-any.whl (96 kB)\n",
      "Requirement already satisfied: threadpoolctl>=2.0.0 in r:\\anaconda3\\envs\\gpt\\lib\\site-packages (from scikit-learn->sentence-transformers) (3.1.0)\n",
      "Requirement already satisfied: pillow>=4.1.1 in r:\\anaconda3\\envs\\gpt\\lib\\site-packages (from torchvision->sentence-transformers) (9.5.0)\n",
      "Requirement already satisfied: zipp>=0.5 in r:\\anaconda3\\envs\\gpt\\lib\\site-packages (from importlib-metadata->huggingface-hub>=0.4.0->sentence-transformers) (3.15.0)\n",
      "Requirement already satisfied: urllib3<3,>=1.21.1 in r:\\anaconda3\\envs\\gpt\\lib\\site-packages (from requests->huggingface-hub>=0.4.0->sentence-transformers) (1.26.15)\n",
      "Requirement already satisfied: charset-normalizer<4,>=2 in r:\\anaconda3\\envs\\gpt\\lib\\site-packages (from requests->huggingface-hub>=0.4.0->sentence-transformers) (3.1.0)\n",
      "Requirement already satisfied: certifi>=2017.4.17 in r:\\anaconda3\\envs\\gpt\\lib\\site-packages (from requests->huggingface-hub>=0.4.0->sentence-transformers) (2022.12.7)\n",
      "Requirement already satisfied: idna<4,>=2.5 in r:\\anaconda3\\envs\\gpt\\lib\\site-packages (from requests->huggingface-hub>=0.4.0->sentence-transformers) (3.4)\n",
      "Installing collected packages: sentencepiece, click, nltk, sentence-transformers\n",
      "Successfully installed click-8.1.3 nltk-3.8.1 sentence-transformers-2.2.2 sentencepiece-0.1.99\n"
     ]
    }
   ],
   "source": [
    "!pip install -U sentence-transformers"
   ]
  },
  {
   "cell_type": "code",
   "execution_count": 3,
   "id": "eaebea80",
   "metadata": {},
   "outputs": [],
   "source": [
    "from sentence_transformers import SentenceTransformer, util"
   ]
  },
  {
   "cell_type": "code",
   "execution_count": 4,
   "id": "c80066c5",
   "metadata": {},
   "outputs": [],
   "source": [
    "import matplotlib.pyplot as plt\n",
    "\n",
    "%matplotlib inline\n",
    "\n",
    "import seaborn as sns\n",
    "from matplotlib.font_manager import FontProperties\n",
    "\n",
    "# Windows\n",
    "myfont = FontProperties(fname=r'C:\\Windows\\Fonts\\kaiu.ttf',size=14)\n",
    "\n",
    "# Mac OS\n",
    "# myfont = FontProperties(fname=\"/Users/mac/Library/Fonts/NotoSansHant-Medium.otf\", size=14)\n",
    "sns.set(font=myfont.get_name())"
   ]
  },
  {
   "cell_type": "code",
   "execution_count": 5,
   "id": "60d13c31",
   "metadata": {},
   "outputs": [],
   "source": [
    "## Setting up some global variable\n",
    "\n",
    "COLORS = ['#01BEFE','#FFDD00','#FF7D00','#FF006D','#ADFF02','#8F00FF']\n",
    "from torch.utils import data\n",
    "sns.set_palette(sns.color_palette(COLORS))\n",
    "RANDOM_SEED = 42\n",
    "np.random.seed(RANDOM_SEED)\n",
    "torch.manual_seed(RANDOM_SEED)\n",
    "fig_size = (10,7)"
   ]
  },
  {
   "cell_type": "markdown",
   "id": "a8eb34c9",
   "metadata": {},
   "source": [
    "<a id=\"load\"></a>\n",
    "## Load data"
   ]
  },
  {
   "cell_type": "code",
   "execution_count": 6,
   "id": "06d552a8",
   "metadata": {},
   "outputs": [
    {
     "name": "stdout",
     "output_type": "stream",
     "text": [
      "(349441, 3)\n"
     ]
    },
    {
     "data": {
      "text/html": [
       "<div>\n",
       "<style scoped>\n",
       "    .dataframe tbody tr th:only-of-type {\n",
       "        vertical-align: middle;\n",
       "    }\n",
       "\n",
       "    .dataframe tbody tr th {\n",
       "        vertical-align: top;\n",
       "    }\n",
       "\n",
       "    .dataframe thead th {\n",
       "        text-align: right;\n",
       "    }\n",
       "</style>\n",
       "<table border=\"1\" class=\"dataframe\">\n",
       "  <thead>\n",
       "    <tr style=\"text-align: right;\">\n",
       "      <th></th>\n",
       "      <th>comments</th>\n",
       "      <th>ratings</th>\n",
       "      <th>wordcount</th>\n",
       "    </tr>\n",
       "  </thead>\n",
       "  <tbody>\n",
       "    <tr>\n",
       "      <th>0</th>\n",
       "      <td>6/27好不容易等到更新了，結果左下個人資料點了會斷線重連的bug竟然還是沒修好，雖然硬要...</td>\n",
       "      <td>1.0</td>\n",
       "      <td>114</td>\n",
       "    </tr>\n",
       "    <tr>\n",
       "      <th>1</th>\n",
       "      <td>好玩 可是我手機名明明放在桌上 人物卻會一直亂跑 系統都判定我在開車...</td>\n",
       "      <td>5.0</td>\n",
       "      <td>38</td>\n",
       "    </tr>\n",
       "    <tr>\n",
       "      <th>2</th>\n",
       "      <td>花了錢買道具吸引怪，卻沒有吸引多少怪可以打，走好幾公里的路也沒打到幾隻怪，再這麽少怪，玩家...</td>\n",
       "      <td>1.0</td>\n",
       "      <td>74</td>\n",
       "    </tr>\n",
       "    <tr>\n",
       "      <th>3</th>\n",
       "      <td>等到更新後，仍然卡在「請眼觀四面耳聽八方」，無法進入遊戲。 手機是Sony XZ2. 真的...</td>\n",
       "      <td>1.0</td>\n",
       "      <td>65</td>\n",
       "    </tr>\n",
       "    <tr>\n",
       "      <th>4</th>\n",
       "      <td>我今天剛下載了這款遊戲，玩了一陣子後，我有點擊左下角的一個人物頭像，但是它顯示了無線網路發...</td>\n",
       "      <td>3.0</td>\n",
       "      <td>153</td>\n",
       "    </tr>\n",
       "  </tbody>\n",
       "</table>\n",
       "</div>"
      ],
      "text/plain": [
       "                                            comments ratings  wordcount\n",
       "0   6/27好不容易等到更新了，結果左下個人資料點了會斷線重連的bug竟然還是沒修好，雖然硬要...     1.0        114\n",
       "1              好玩 可是我手機名明明放在桌上 人物卻會一直亂跑 系統都判定我在開車...     5.0         38\n",
       "2   花了錢買道具吸引怪，卻沒有吸引多少怪可以打，走好幾公里的路也沒打到幾隻怪，再這麽少怪，玩家...     1.0         74\n",
       "3   等到更新後，仍然卡在「請眼觀四面耳聽八方」，無法進入遊戲。 手機是Sony XZ2. 真的...     1.0         65\n",
       "4   我今天剛下載了這款遊戲，玩了一陣子後，我有點擊左下角的一個人物頭像，但是它顯示了無線網路發...     3.0        153"
      ]
     },
     "execution_count": 6,
     "metadata": {},
     "output_type": "execute_result"
    }
   ],
   "source": [
    "df_all =  pd.read_csv('data/sentimental/googleplay/google_play_big.csv', sep=',' , encoding='utf-8', engine='python')\n",
    "df_all = df_all.replace(np.nan, '', regex=True)\n",
    "df_all = df_all[(df_all.ratings ==1.0) | (df_all.ratings == 2.0) | (df_all.ratings == 3.0) | (df_all.ratings == 4.0) | (df_all.ratings == 5.0)]\n",
    "\n",
    "if 'Unnamed: 0' in df_all.columns:\n",
    "    df_all = df_all.drop(['Unnamed: 0'], axis=1)\n",
    "if '_id' in df_all.columns:\n",
    "    df_all = df_all.drop(['_id'], axis=1)\n",
    "\n",
    "df_all[\"wordcount\"] = df_all[\"comments\"].apply(lambda x: len(str(x)))\n",
    "print(df_all.shape)\n",
    "df_all.head()"
   ]
  },
  {
   "cell_type": "code",
   "execution_count": 7,
   "id": "a39518df",
   "metadata": {},
   "outputs": [
    {
     "data": {
      "image/png": "[encoded data removed]",
      "text/plain": [
       "<Figure size 1500x500 with 1 Axes>"
      ]
     },
     "metadata": {},
     "output_type": "display_data"
    }
   ],
   "source": [
    "plot = df_all[['wordcount']].plot.box(figsize=(15,5), vert=False, showfliers=False)"
   ]
  },
  {
   "cell_type": "code",
   "execution_count": 8,
   "id": "ab28d03e",
   "metadata": {},
   "outputs": [
    {
     "data": {
      "text/plain": [
       "4502"
      ]
     },
     "execution_count": 8,
     "metadata": {},
     "output_type": "execute_result"
    }
   ],
   "source": [
    "d_1 = df_all[(df_all.ratings==1.0) & (df_all.wordcount>10) & (df_all.wordcount<25)]\n",
    "d_2 = df_all[(df_all.ratings==2.0) & (df_all.wordcount>10) & (df_all.wordcount<25)]\n",
    "d_3 = df_all[(df_all.ratings==3.0) & (df_all.wordcount>10) & (df_all.wordcount<25)]\n",
    "d_4 = df_all[(df_all.ratings==4.0) & (df_all.wordcount>10) & (df_all.wordcount<25)]\n",
    "d_5 = df_all[(df_all.ratings==5.0) & (df_all.wordcount>10) & (df_all.wordcount<25)]\n",
    "d_2.shape[0]"
   ]
  },
  {
   "cell_type": "code",
   "execution_count": 9,
   "id": "6268c974",
   "metadata": {},
   "outputs": [],
   "source": [
    "num_to_pick = 45000\n",
    "num_to_pick = 1250\n",
    "num_to_pick = 100\n",
    "df_tmp = pd.concat([d_1.sample(num_to_pick), d_2.sample(num_to_pick), d_3.sample(num_to_pick+num_to_pick), d_4.sample(num_to_pick), d_5.sample(num_to_pick)], ignore_index=True)"
   ]
  },
  {
   "cell_type": "code",
   "execution_count": 10,
   "id": "fa372368",
   "metadata": {},
   "outputs": [
    {
     "data": {
      "text/plain": [
       "<AxesSubplot:>"
      ]
     },
     "execution_count": 10,
     "metadata": {},
     "output_type": "execute_result"
    },
    {
     "data": {
      "image/png": "[encoded data removed]",
      "text/plain": [
       "<Figure size 640x480 with 1 Axes>"
      ]
     },
     "metadata": {},
     "output_type": "display_data"
    }
   ],
   "source": [
    "colors = ['#1f77b4', '#ff7f0e', '#2ca02c', '#d62728', '#9467bd',\n",
    "          '#8c564b', '#e377c2', '#7f7f7f', '#bcbd22', '#17becf']\n",
    "df_tmp['ratings'].value_counts().plot(kind=\"bar\", rot=0, color=colors)"
   ]
  },
  {
   "cell_type": "code",
   "execution_count": 11,
   "id": "b71ed8bf",
   "metadata": {},
   "outputs": [
    {
     "data": {
      "text/html": [
       "<div>\n",
       "<style scoped>\n",
       "    .dataframe tbody tr th:only-of-type {\n",
       "        vertical-align: middle;\n",
       "    }\n",
       "\n",
       "    .dataframe tbody tr th {\n",
       "        vertical-align: top;\n",
       "    }\n",
       "\n",
       "    .dataframe thead th {\n",
       "        text-align: right;\n",
       "    }\n",
       "</style>\n",
       "<table border=\"1\" class=\"dataframe\">\n",
       "  <thead>\n",
       "    <tr style=\"text-align: right;\">\n",
       "      <th></th>\n",
       "      <th>comments</th>\n",
       "      <th>ratings</th>\n",
       "      <th>wordcount</th>\n",
       "      <th>sentiment</th>\n",
       "    </tr>\n",
       "  </thead>\n",
       "  <tbody>\n",
       "    <tr>\n",
       "      <th>66</th>\n",
       "      <td>容量太大一直顯示容量不足 明明有1G多 爛透了</td>\n",
       "      <td>1.0</td>\n",
       "      <td>24</td>\n",
       "      <td>0</td>\n",
       "    </tr>\n",
       "  </tbody>\n",
       "</table>\n",
       "</div>"
      ],
      "text/plain": [
       "                    comments ratings  wordcount  sentiment\n",
       "66   容量太大一直顯示容量不足 明明有1G多 爛透了     1.0         24          0"
      ]
     },
     "execution_count": 11,
     "metadata": {},
     "output_type": "execute_result"
    }
   ],
   "source": [
    "def get_sentiment(score):\n",
    "    if score<=2:\n",
    "        return 0 # negative sentiment\n",
    "    elif score==3:\n",
    "        return 1 # neutral sentiment\n",
    "    else:\n",
    "        return 2 # positive sentiment\n",
    "\n",
    "df_tmp['sentiment'] = df_tmp.ratings.apply(get_sentiment)\n",
    "# df_tmp[df_tmp['sentiment']==0]\n",
    "df_tmp.sample()"
   ]
  },
  {
   "cell_type": "code",
   "execution_count": 12,
   "id": "769fe313",
   "metadata": {},
   "outputs": [
    {
     "data": {
      "image/png": "[encoded data removed]",
      "text/plain": [
       "<Figure size 1000x700 with 1 Axes>"
      ]
     },
     "metadata": {},
     "output_type": "display_data"
    }
   ],
   "source": [
    "plt.figure(figsize=fig_size)\n",
    "sns.countplot(data=df_tmp.loc[df_tmp['sentiment']!=-1], x='sentiment')\n",
    "plt.xticks([0, 1, 2],['Negative','Neutral','Positive'])\n",
    "plt.title('sentiment')\n",
    "plt.show()"
   ]
  },
  {
   "cell_type": "markdown",
   "id": "c5c35bd0",
   "metadata": {},
   "source": [
    "<a id=\"training_data\"></a>\n",
    "## Prepare training , validation  data\n",
    "\n",
    "Finally we can see the balanced dataset.\n",
    "\n",
    "- convert reviews into tokens\n",
    "- convert tokens into token ids\n",
    "- set max len\n",
    "- creating padding\n",
    "- all this will done by tokenizer.encode_plus"
   ]
  },
  {
   "cell_type": "code",
   "execution_count": 13,
   "id": "a540cf2f",
   "metadata": {},
   "outputs": [],
   "source": [
    "import transformers"
   ]
  },
  {
   "cell_type": "code",
   "execution_count": 14,
   "id": "44f38520",
   "metadata": {},
   "outputs": [
    {
     "data": {
      "application/vnd.jupyter.widget-view+json": {
       "model_id": "5bb247ed1f6e49bfbaff50f6839b3bfd",
       "version_major": 2,
       "version_minor": 0
      },
      "text/plain": [
       "Downloading (…)solve/main/vocab.txt:   0%|          | 0.00/110k [00:00<?, ?B/s]"
      ]
     },
     "metadata": {},
     "output_type": "display_data"
    },
    {
     "data": {
      "application/vnd.jupyter.widget-view+json": {
       "model_id": "50696235928d4b74864c884c2199ee12",
       "version_major": 2,
       "version_minor": 0
      },
      "text/plain": [
       "Downloading (…)okenizer_config.json:   0%|          | 0.00/29.0 [00:00<?, ?B/s]"
      ]
     },
     "metadata": {},
     "output_type": "display_data"
    },
    {
     "data": {
      "application/vnd.jupyter.widget-view+json": {
       "model_id": "8354c9bd9e68459f98dbcb8302c5fbaf",
       "version_major": 2,
       "version_minor": 0
      },
      "text/plain": [
       "Downloading (…)lve/main/config.json:   0%|          | 0.00/624 [00:00<?, ?B/s]"
      ]
     },
     "metadata": {},
     "output_type": "display_data"
    }
   ],
   "source": [
    "bert_model_name = 'bert-base-chinese'\n",
    "tokenizer = transformers.BertTokenizer.from_pretrained(bert_model_name)"
   ]
  },
  {
   "cell_type": "code",
   "execution_count": 15,
   "id": "c014f287",
   "metadata": {},
   "outputs": [
    {
     "name": "stdout",
     "output_type": "stream",
     "text": [
      "自定義鍵盤中能不能不要有小愛心小花，看著真的不舒服\n",
      "============================================================\n",
      "['自', '定', '義', '鍵', '盤', '中', '能', '不', '能', '不', '要', '有', '小', '愛', '心', '小', '花', '，', '看', '著', '真', '的', '不', '舒', '服']\n",
      "============================================================\n",
      "[5632, 2137, 5412, 7107, 4676, 704, 5543, 679, 5543, 679, 6206, 3300, 2207, 2695, 2552, 2207, 5709, 8024, 4692, 5865, 4696, 4638, 679, 5653, 3302]\n"
     ]
    }
   ],
   "source": [
    "sample_text = \"自定義鍵盤中能不能不要有小愛心小花，看著真的不舒服\"\n",
    "               \n",
    "tokens = tokenizer.tokenize(sample_text)\n",
    "ids = tokenizer.convert_tokens_to_ids(tokens)\n",
    "print(f'{sample_text}')\n",
    "print('='*60)\n",
    "print(tokens)\n",
    "print('='*60)\n",
    "print(ids)"
   ]
  },
  {
   "cell_type": "code",
   "execution_count": 16,
   "id": "263c1a4a",
   "metadata": {},
   "outputs": [
    {
     "name": "stdout",
     "output_type": "stream",
     "text": [
      "[SEP] 102\n",
      "[CLS] 101\n",
      "[UNK] 100\n",
      "[PAD] 0\n"
     ]
    }
   ],
   "source": [
    "# special tokens\n",
    "print(tokenizer.sep_token , tokenizer.sep_token_id)\n",
    "print(tokenizer.cls_token,tokenizer.cls_token_id)\n",
    "print(tokenizer.unk_token,tokenizer.unk_token_id)\n",
    "print(tokenizer.pad_token,tokenizer.pad_token_id)"
   ]
  },
  {
   "cell_type": "markdown",
   "id": "a09cf60d",
   "metadata": {},
   "source": [
    "Hugging face library provides another function called tokenizer.encode_plus() which we will use to perform almost entire  preprocessing steps in one go. It\n",
    "\n",
    "* converts reviews into tokens\n",
    "* adds [CLS] token at the beginning of input\n",
    "* performs padding if sequence length is less than max_len\n",
    "* performs truncation if sequence length is greater than max_len\n",
    "* adds [SEP] token at the end of sequence."
   ]
  },
  {
   "cell_type": "code",
   "execution_count": 17,
   "id": "31a22928",
   "metadata": {},
   "outputs": [
    {
     "name": "stderr",
     "output_type": "stream",
     "text": [
      "R:\\Anaconda3\\envs\\gpt\\lib\\site-packages\\transformers\\tokenization_utils_base.py:2370: FutureWarning: The `pad_to_max_length` argument is deprecated and will be removed in a future version, use `padding=True` or `padding='longest'` to pad to the longest sequence in the batch, or use `padding='max_length'` to pad to a max length. In this case, you can give a specific length with `max_length` (e.g. `max_length=45`) or leave max_length to None to pad to the maximal input size of the model (e.g. 512 for Bert).\n",
      "  FutureWarning,\n"
     ]
    }
   ],
   "source": [
    "encoding = tokenizer.encode_plus(\n",
    "      sample_text,\n",
    "      add_special_tokens=True,\n",
    "      max_length=128,\n",
    "      truncation=True,\n",
    "      return_token_type_ids=False,\n",
    "      pad_to_max_length=True,\n",
    "      return_attention_mask=True,\n",
    "      return_tensors='pt')"
   ]
  },
  {
   "cell_type": "code",
   "execution_count": 18,
   "id": "7980269c",
   "metadata": {},
   "outputs": [
    {
     "name": "stdout",
     "output_type": "stream",
     "text": [
      "torch.Size([1, 128])\n"
     ]
    },
    {
     "data": {
      "text/plain": [
       "tensor([[ 101, 5632, 2137, 5412, 7107, 4676,  704, 5543,  679, 5543,  679, 6206,\n",
       "         3300, 2207, 2695, 2552, 2207, 5709, 8024, 4692, 5865, 4696, 4638,  679,\n",
       "         5653, 3302,  102,    0,    0,    0,    0,    0,    0,    0,    0,    0,\n",
       "            0,    0,    0,    0,    0,    0,    0,    0,    0,    0,    0,    0,\n",
       "            0,    0,    0,    0,    0,    0,    0,    0,    0,    0,    0,    0,\n",
       "            0,    0,    0,    0,    0,    0,    0,    0,    0,    0,    0,    0,\n",
       "            0,    0,    0,    0,    0,    0,    0,    0,    0,    0,    0,    0,\n",
       "            0,    0,    0,    0,    0,    0,    0,    0,    0,    0,    0,    0,\n",
       "            0,    0,    0,    0,    0,    0,    0,    0,    0,    0,    0,    0,\n",
       "            0,    0,    0,    0,    0,    0,    0,    0,    0,    0,    0,    0,\n",
       "            0,    0,    0,    0,    0,    0,    0,    0]])"
      ]
     },
     "execution_count": 18,
     "metadata": {},
     "output_type": "execute_result"
    }
   ],
   "source": [
    "print(encoding['input_ids'].shape)\n",
    "encoding['input_ids']"
   ]
  },
  {
   "cell_type": "code",
   "execution_count": 19,
   "id": "d90ae60f",
   "metadata": {},
   "outputs": [
    {
     "name": "stdout",
     "output_type": "stream",
     "text": [
      "torch.Size([1, 128])\n"
     ]
    },
    {
     "data": {
      "text/plain": [
       "tensor([[1, 1, 1, 1, 1, 1, 1, 1, 1, 1, 1, 1, 1, 1, 1, 1, 1, 1, 1, 1, 1, 1, 1, 1,\n",
       "         1, 1, 1, 0, 0, 0, 0, 0, 0, 0, 0, 0, 0, 0, 0, 0, 0, 0, 0, 0, 0, 0, 0, 0,\n",
       "         0, 0, 0, 0, 0, 0, 0, 0, 0, 0, 0, 0, 0, 0, 0, 0, 0, 0, 0, 0, 0, 0, 0, 0,\n",
       "         0, 0, 0, 0, 0, 0, 0, 0, 0, 0, 0, 0, 0, 0, 0, 0, 0, 0, 0, 0, 0, 0, 0, 0,\n",
       "         0, 0, 0, 0, 0, 0, 0, 0, 0, 0, 0, 0, 0, 0, 0, 0, 0, 0, 0, 0, 0, 0, 0, 0,\n",
       "         0, 0, 0, 0, 0, 0, 0, 0]])"
      ]
     },
     "execution_count": 19,
     "metadata": {},
     "output_type": "execute_result"
    }
   ],
   "source": [
    "print(encoding['attention_mask'].shape)\n",
    "encoding['attention_mask']"
   ]
  },
  {
   "cell_type": "markdown",
   "id": "3a1d76ff",
   "metadata": {},
   "source": [
    "<a id=\"max_len\"></a>\n",
    "## Decide max_len\n",
    "\n",
    "The best way to decide max_len for our task is plotting a distribution graph for the number of words in each review. We will assign max_len to that value for which most of the review is covered without truncation."
   ]
  },
  {
   "cell_type": "code",
   "execution_count": 20,
   "id": "8680643f",
   "metadata": {},
   "outputs": [
    {
     "data": {
      "text/html": [
       "<div>\n",
       "<style scoped>\n",
       "    .dataframe tbody tr th:only-of-type {\n",
       "        vertical-align: middle;\n",
       "    }\n",
       "\n",
       "    .dataframe tbody tr th {\n",
       "        vertical-align: top;\n",
       "    }\n",
       "\n",
       "    .dataframe thead th {\n",
       "        text-align: right;\n",
       "    }\n",
       "</style>\n",
       "<table border=\"1\" class=\"dataframe\">\n",
       "  <thead>\n",
       "    <tr style=\"text-align: right;\">\n",
       "      <th></th>\n",
       "      <th>comments</th>\n",
       "      <th>ratings</th>\n",
       "      <th>wordcount</th>\n",
       "      <th>sentiment</th>\n",
       "    </tr>\n",
       "  </thead>\n",
       "  <tbody>\n",
       "    <tr>\n",
       "      <th>370</th>\n",
       "      <td>最好玩的時間烹飪遊戲</td>\n",
       "      <td>3.0</td>\n",
       "      <td>11</td>\n",
       "      <td>1</td>\n",
       "    </tr>\n",
       "  </tbody>\n",
       "</table>\n",
       "</div>"
      ],
      "text/plain": [
       "        comments ratings  wordcount  sentiment\n",
       "370   最好玩的時間烹飪遊戲     3.0         11          1"
      ]
     },
     "execution_count": 20,
     "metadata": {},
     "output_type": "execute_result"
    }
   ],
   "source": [
    "df_tmp.sample()"
   ]
  },
  {
   "cell_type": "markdown",
   "id": "d456d893",
   "metadata": {},
   "source": [
    "### max length of sequence "
   ]
  },
  {
   "cell_type": "code",
   "execution_count": 21,
   "id": "2a509a32",
   "metadata": {},
   "outputs": [
    {
     "name": "stderr",
     "output_type": "stream",
     "text": [
      "R:\\Anaconda3\\envs\\gpt\\lib\\site-packages\\ipykernel_launcher.py:7: UserWarning: \n",
      "\n",
      "`distplot` is a deprecated function and will be removed in seaborn v0.14.0.\n",
      "\n",
      "Please adapt your code to use either `displot` (a figure-level function with\n",
      "similar flexibility) or `histplot` (an axes-level function for histograms).\n",
      "\n",
      "For a guide to updating your code to use the new functions, please see\n",
      "https://gist.github.com/mwaskom/de44147ed2974457ad6372750bbe5751\n",
      "\n",
      "  import sys\n"
     ]
    },
    {
     "data": {
      "image/png": "[encoded data removed]",
      "text/plain": [
       "<Figure size 1000x700 with 1 Axes>"
      ]
     },
     "metadata": {},
     "output_type": "display_data"
    }
   ],
   "source": [
    "# Here is how we deal with English\n",
    "# lengths = np.array([len(x.split()) for x in reviews_df.content])\n",
    "\n",
    "# Chinese plot\n",
    "lengths = np.array([len(x) for x in df_tmp.comments])\n",
    "plt.figure(figsize = fig_size)\n",
    "sns.distplot(lengths)\n",
    "plt.xlabel('review length')\n",
    "plt.title('Distribution of review lengths')\n",
    "plt.show()"
   ]
  },
  {
   "cell_type": "markdown",
   "id": "82c49971",
   "metadata": {},
   "source": [
    "#### optimal max len = 128 will be fine, because we use Chinese for this training."
   ]
  },
  {
   "cell_type": "code",
   "execution_count": 22,
   "id": "03c09cc9",
   "metadata": {},
   "outputs": [
    {
     "name": "stdout",
     "output_type": "stream",
     "text": [
      "(480, 4) (60, 4) (60, 4)\n"
     ]
    }
   ],
   "source": [
    "### Train , val and test data \n",
    "from sklearn.model_selection import train_test_split\n",
    "\n",
    "train_df , test_df  = train_test_split(df_tmp, test_size=0.2, random_state=RANDOM_SEED, shuffle=True)\n",
    "val_df , test_df  = train_test_split(test_df, test_size=0.5, random_state=RANDOM_SEED, shuffle=True)\n",
    "\n",
    "print(train_df.shape , test_df.shape , val_df.shape)"
   ]
  },
  {
   "cell_type": "markdown",
   "id": "3eb5a919",
   "metadata": {},
   "source": [
    "<a id=\"dataset\"></a>\n",
    "## Dataset and Dataloader\n",
    "\n",
    "We will use pytorch for fine tuing our BERT model for Sentiment analysis and we will use pytorch module such as Dataset and Dataloader which will finally convert out data into batches."
   ]
  },
  {
   "cell_type": "code",
   "execution_count": 23,
   "id": "29da1a9e",
   "metadata": {},
   "outputs": [],
   "source": [
    "class GoogleAppReview(Dataset):\n",
    "    def __init__(self, review, target, tokenizer, max_len):\n",
    "        self.review = review\n",
    "        self.target = target\n",
    "        self.tokenizer = tokenizer\n",
    "        self.max_len = max_len\n",
    "        \n",
    "    def __len__(self):\n",
    "        return len(self.review)\n",
    "    \n",
    "    def __getitem__(self,index):\n",
    "        review = self.review[index]\n",
    "        encoding = self.tokenizer.encode_plus(\n",
    "                          review,\n",
    "                          add_special_tokens=True,\n",
    "                          max_length=128,\n",
    "                          truncation=True,\n",
    "                          return_token_type_ids=False,\n",
    "                          pad_to_max_length=True,\n",
    "                          return_attention_mask=True,\n",
    "                          return_tensors='pt')\n",
    "        \n",
    "        return {'review' : review,\n",
    "                'input_id': encoding['input_ids'].flatten(),\n",
    "                'attention_mask':encoding['attention_mask'].flatten(),\n",
    "                'target': torch.tensor(self.target[index], dtype = torch.long)\n",
    "               }"
   ]
  },
  {
   "cell_type": "code",
   "execution_count": 24,
   "id": "eb0b6cca",
   "metadata": {},
   "outputs": [],
   "source": [
    "tokenizer = transformers.BertTokenizer.from_pretrained(bert_model_name)\n",
    "MAX_LEN = 128\n",
    "\n",
    "training_data = GoogleAppReview(review = train_df.comments.to_numpy(),\n",
    "                               target = train_df.sentiment.to_numpy(),\n",
    "                               tokenizer = tokenizer,\n",
    "                               max_len = MAX_LEN)\n",
    "\n",
    "validation_data = GoogleAppReview(review = val_df.comments.to_numpy(),\n",
    "                               target = val_df.sentiment.to_numpy(),\n",
    "                               tokenizer = tokenizer,\n",
    "                               max_len = MAX_LEN)\n",
    "\n",
    "test_data = GoogleAppReview(review = test_df.comments.to_numpy(),\n",
    "                               target = test_df.sentiment.to_numpy(),\n",
    "                               tokenizer = tokenizer,\n",
    "                               max_len = MAX_LEN)"
   ]
  },
  {
   "cell_type": "code",
   "execution_count": 25,
   "id": "172db966",
   "metadata": {},
   "outputs": [
    {
     "name": "stdout",
     "output_type": "stream",
     "text": [
      "480 60 60\n"
     ]
    }
   ],
   "source": [
    "print(len(training_data),len(test_data),len(validation_data))"
   ]
  },
  {
   "cell_type": "code",
   "execution_count": 26,
   "id": "04418183",
   "metadata": {},
   "outputs": [],
   "source": [
    "## DataLoader\n",
    "BATCH_SIZE = 16\n",
    "train_loader = DataLoader(training_data , batch_size = BATCH_SIZE , shuffle = True)\n",
    "test_loader = DataLoader(test_data , batch_size = BATCH_SIZE , shuffle = False)\n",
    "val_loader = DataLoader(validation_data , batch_size = BATCH_SIZE , shuffle = False)"
   ]
  },
  {
   "cell_type": "code",
   "execution_count": 27,
   "id": "8f486dd9",
   "metadata": {},
   "outputs": [
    {
     "name": "stderr",
     "output_type": "stream",
     "text": [
      "R:\\Anaconda3\\envs\\gpt\\lib\\site-packages\\transformers\\tokenization_utils_base.py:2370: FutureWarning: The `pad_to_max_length` argument is deprecated and will be removed in a future version, use `padding=True` or `padding='longest'` to pad to the longest sequence in the batch, or use `padding='max_length'` to pad to a max length. In this case, you can give a specific length with `max_length` (e.g. `max_length=45`) or leave max_length to None to pad to the maximal input size of the model (e.g. 512 for Bert).\n",
      "  FutureWarning,\n"
     ]
    },
    {
     "data": {
      "text/plain": [
       "dict_keys(['review', 'input_id', 'attention_mask', 'target'])"
      ]
     },
     "execution_count": 27,
     "metadata": {},
     "output_type": "execute_result"
    }
   ],
   "source": [
    "sample_batch = next(iter(train_loader))\n",
    "sample_batch.keys()"
   ]
  },
  {
   "cell_type": "code",
   "execution_count": 28,
   "id": "acdf831c",
   "metadata": {},
   "outputs": [
    {
     "name": "stdout",
     "output_type": "stream",
     "text": [
      "進不去…… 一直卡在初始畫面進不去~~~~~~~\n",
      "tensor([ 101, 6868,  679, 1343,  100,  100,  671, 4684, 1305, 1762, 1159, 1993,\n",
      "        4529, 7481, 6868,  679, 1343,  172,  172,  172,  172,  172,  172,  172,\n",
      "         102,    0,    0,    0,    0,    0,    0,    0,    0,    0,    0,    0,\n",
      "           0,    0,    0,    0,    0,    0,    0,    0,    0,    0,    0,    0,\n",
      "           0,    0,    0,    0,    0,    0,    0,    0,    0,    0,    0,    0,\n",
      "           0,    0,    0,    0,    0,    0,    0,    0,    0,    0,    0,    0,\n",
      "           0,    0,    0,    0,    0,    0,    0,    0,    0,    0,    0,    0,\n",
      "           0,    0,    0,    0,    0,    0,    0,    0,    0,    0,    0,    0,\n",
      "           0,    0,    0,    0,    0,    0,    0,    0,    0,    0,    0,    0,\n",
      "           0,    0,    0,    0,    0,    0,    0,    0,    0,    0,    0,    0,\n",
      "           0,    0,    0,    0,    0,    0,    0,    0])\n",
      "tensor([1, 1, 1, 1, 1, 1, 1, 1, 1, 1, 1, 1, 1, 1, 1, 1, 1, 1, 1, 1, 1, 1, 1, 1,\n",
      "        1, 0, 0, 0, 0, 0, 0, 0, 0, 0, 0, 0, 0, 0, 0, 0, 0, 0, 0, 0, 0, 0, 0, 0,\n",
      "        0, 0, 0, 0, 0, 0, 0, 0, 0, 0, 0, 0, 0, 0, 0, 0, 0, 0, 0, 0, 0, 0, 0, 0,\n",
      "        0, 0, 0, 0, 0, 0, 0, 0, 0, 0, 0, 0, 0, 0, 0, 0, 0, 0, 0, 0, 0, 0, 0, 0,\n",
      "        0, 0, 0, 0, 0, 0, 0, 0, 0, 0, 0, 0, 0, 0, 0, 0, 0, 0, 0, 0, 0, 0, 0, 0,\n",
      "        0, 0, 0, 0, 0, 0, 0, 0])\n",
      "tensor(1)\n",
      "==================================================\n",
      "torch.Size([16, 128]) torch.Size([16, 128]) torch.Size([16])\n"
     ]
    }
   ],
   "source": [
    "print(sample_batch['review'][0])\n",
    "print(sample_batch['input_id'][0])\n",
    "print(sample_batch['attention_mask'][0])\n",
    "print(sample_batch['target'][0])\n",
    "print('='*50)\n",
    "print(sample_batch['input_id'].shape,sample_batch['attention_mask'].shape,sample_batch['target'].shape)"
   ]
  },
  {
   "cell_type": "markdown",
   "id": "4c040f4f",
   "metadata": {},
   "source": [
    "<a id=\"model_selection\"></a>\n",
    "## Model Selection\n",
    "\n",
    "The BERT model comes with two configurations or we can say two different sizes BERT-base and BERT-large and we haven't talked about which model we are going to select. Performance wise BERT-large is more accurate as it has more bert-layer(24) and embedding size = 1024 but it is very hard to fine tune as I do not have any powerful GPUs on other hand BERT-base comes with 12 bert-layer and 768 embedding size which is much more easy to train as compare to BERT-large and performance wise also BERT-base give reasonably good performance.\n",
    "\n",
    "By considering all those factors I will use BERT-base for our sentiment analysis model."
   ]
  },
  {
   "cell_type": "markdown",
   "id": "da057df2",
   "metadata": {},
   "source": [
    "## Loading BERT-base model"
   ]
  },
  {
   "cell_type": "code",
   "execution_count": 29,
   "id": "56df5c75",
   "metadata": {},
   "outputs": [
    {
     "data": {
      "application/vnd.jupyter.widget-view+json": {
       "model_id": "a7b83488f1164af9b7303ecdee591b7b",
       "version_major": 2,
       "version_minor": 0
      },
      "text/plain": [
       "Downloading pytorch_model.bin:   0%|          | 0.00/412M [00:00<?, ?B/s]"
      ]
     },
     "metadata": {},
     "output_type": "display_data"
    },
    {
     "name": "stderr",
     "output_type": "stream",
     "text": [
      "Some weights of the model checkpoint at bert-base-chinese were not used when initializing BertModel: ['cls.predictions.transform.dense.bias', 'cls.predictions.transform.LayerNorm.bias', 'cls.predictions.transform.LayerNorm.weight', 'cls.predictions.decoder.weight', 'cls.predictions.transform.dense.weight', 'cls.seq_relationship.weight', 'cls.seq_relationship.bias', 'cls.predictions.bias']\n",
      "- This IS expected if you are initializing BertModel from the checkpoint of a model trained on another task or with another architecture (e.g. initializing a BertForSequenceClassification model from a BertForPreTraining model).\n",
      "- This IS NOT expected if you are initializing BertModel from the checkpoint of a model that you expect to be exactly identical (initializing a BertForSequenceClassification model from a BertForSequenceClassification model).\n"
     ]
    },
    {
     "name": "stdout",
     "output_type": "stream",
     "text": [
      "Last hidden layer size for input as batch torch.Size([16, 128, 768])\n",
      "Pooled output size for input as batch torch.Size([16, 768])\n"
     ]
    }
   ],
   "source": [
    "# Load BERT base model\n",
    "bert_model_name = 'bert-base-chinese'\n",
    "bert_model = BertModel.from_pretrained(bert_model_name)\n",
    "\n",
    "## testing the output of bert model\n",
    "x = bert_model(sample_batch['input_id'].view(BATCH_SIZE,MAX_LEN)\n",
    "               ,sample_batch['attention_mask'].view(BATCH_SIZE,MAX_LEN))\n",
    "\n",
    "print('Last hidden layer size for input as batch',x[0].shape)\n",
    "print('Pooled output size for input as batch',x[1].shape)"
   ]
  },
  {
   "cell_type": "markdown",
   "id": "36a8863f",
   "metadata": {},
   "source": [
    "## Model Architecture\n",
    "\n",
    "We will add one more linear layer on top of the BERT-base model which takes inputs from a pooled layer of BERT base and generates 3D output for each input. These three outputs will indicate the chance of a review to its respective sentiments where First output represents Negative and second and third output represents Neutral and positive respectively."
   ]
  },
  {
   "cell_type": "code",
   "execution_count": 30,
   "id": "ae9bc4e5",
   "metadata": {},
   "outputs": [],
   "source": [
    "## build model \n",
    "\n",
    "class SentimentClassifier(nn.Module):\n",
    "    def __init__(self,num_classes):\n",
    "        super(SentimentClassifier,self).__init__()\n",
    "        self.bert = BertModel.from_pretrained(bert_model_name)\n",
    "        self.dropout = nn.Dropout(p = 0.3)\n",
    "        self.linear = nn.Linear(self.bert.config.hidden_size,num_classes)\n",
    "        self.softmax = nn.Softmax(dim = 1)\n",
    "\n",
    "    def forward(self,input_ids , attention_mask):\n",
    "        temp = self.bert(input_ids,attention_mask) # Here we have added one linear layer on top of \n",
    "        pooled_output = temp[1]                    # BERT-base with number of output = 3 \n",
    "        out = self.dropout(pooled_output)          #\n",
    "        out = self.linear(out)\n",
    "        return out"
   ]
  },
  {
   "cell_type": "code",
   "execution_count": 31,
   "id": "0e0b0592",
   "metadata": {},
   "outputs": [
    {
     "name": "stderr",
     "output_type": "stream",
     "text": [
      "Some weights of the model checkpoint at bert-base-chinese were not used when initializing BertModel: ['cls.predictions.transform.dense.bias', 'cls.predictions.transform.LayerNorm.bias', 'cls.predictions.transform.LayerNorm.weight', 'cls.predictions.decoder.weight', 'cls.predictions.transform.dense.weight', 'cls.seq_relationship.weight', 'cls.seq_relationship.bias', 'cls.predictions.bias']\n",
      "- This IS expected if you are initializing BertModel from the checkpoint of a model trained on another task or with another architecture (e.g. initializing a BertForSequenceClassification model from a BertForPreTraining model).\n",
      "- This IS NOT expected if you are initializing BertModel from the checkpoint of a model that you expect to be exactly identical (initializing a BertForSequenceClassification model from a BertForSequenceClassification model).\n"
     ]
    },
    {
     "data": {
      "text/plain": [
       "tensor([[0.3956, 0.2160, 0.3884],\n",
       "        [0.1945, 0.3359, 0.4696],\n",
       "        [0.0823, 0.2359, 0.6818],\n",
       "        [0.2372, 0.2793, 0.4834],\n",
       "        [0.2739, 0.2373, 0.4888],\n",
       "        [0.3191, 0.1904, 0.4904],\n",
       "        [0.3104, 0.2259, 0.4637],\n",
       "        [0.4005, 0.2369, 0.3626],\n",
       "        [0.2575, 0.4208, 0.3217],\n",
       "        [0.2977, 0.2479, 0.4544],\n",
       "        [0.3839, 0.2442, 0.3718],\n",
       "        [0.2154, 0.2410, 0.5436],\n",
       "        [0.1980, 0.2822, 0.5198],\n",
       "        [0.3206, 0.1969, 0.4825],\n",
       "        [0.3437, 0.2003, 0.4560],\n",
       "        [0.2657, 0.2891, 0.4453]], grad_fn=<SoftmaxBackward>)"
      ]
     },
     "execution_count": 31,
     "metadata": {},
     "output_type": "execute_result"
    }
   ],
   "source": [
    "num_classes = 3\n",
    "model = SentimentClassifier(num_classes)\n",
    "\n",
    "sample_linear_output = model(sample_batch['input_id']\n",
    "                             ,sample_batch['attention_mask'])\n",
    "\n",
    "s = nn.Softmax(dim=1)\n",
    "final_out = s(sample_linear_output)\n",
    "final_out"
   ]
  },
  {
   "cell_type": "markdown",
   "id": "282943c3",
   "metadata": {},
   "source": [
    "Till now everything looks fine. We got output(16,3) for the sample batch where 16 is sample size and 3 is number of outputs for each input. \n",
    "\n",
    "The following initial steps are performed to train any deep learning model using pytorch which are\n",
    "* define loss function\n",
    "* define optimizer\n",
    "* define scheduler (it will modify learning rate after each iteration that speed-up the convergence. using it is optional but recommended)"
   ]
  },
  {
   "cell_type": "code",
   "execution_count": 32,
   "id": "b7976b93",
   "metadata": {},
   "outputs": [
    {
     "name": "stderr",
     "output_type": "stream",
     "text": [
      "R:\\Anaconda3\\envs\\gpt\\lib\\site-packages\\transformers\\optimization.py:411: FutureWarning: This implementation of AdamW is deprecated and will be removed in a future version. Use the PyTorch implementation torch.optim.AdamW instead, or set `no_deprecation_warning=True` to disable this warning\n",
      "  FutureWarning,\n"
     ]
    }
   ],
   "source": [
    "## loss and optimizer\n",
    "learning_rate = 1e-5\n",
    "EPOCHS = 3\n",
    "total_steps = len(train_loader) * EPOCHS\n",
    "\n",
    "criterian = torch.nn.CrossEntropyLoss()\n",
    "\n",
    "optimizer = transformers.AdamW(params = model.parameters(),lr = learning_rate, correct_bias= False)\n",
    "\n",
    "scheduler = transformers.get_linear_schedule_with_warmup(optimizer = optimizer,\n",
    "                                                        num_warmup_steps = 0,\n",
    "                                                        num_training_steps = total_steps)"
   ]
  },
  {
   "cell_type": "code",
   "execution_count": 33,
   "id": "e175845a",
   "metadata": {},
   "outputs": [],
   "source": [
    "def train_model(model, data_loader, criterian, optimizer, scheduler, BATCH_SIZE ,MAX_LEN, n_examples):\n",
    "    model.train()\n",
    "    train_loss = []\n",
    "    correct_pred = 0\n",
    "    for d in data_loader:\n",
    "        input_ids = d['input_id']\n",
    "        attention_masks = d['attention_mask']\n",
    "        targets = d['target']\n",
    "\n",
    "        # forward prop\n",
    "        predictions = model(input_ids , attention_masks)\n",
    "        loss = criterian(predictions, targets)\n",
    "        _,pred_classes = torch.max(predictions, dim=1)\n",
    "        # backprop\n",
    "        loss.backward()\n",
    "        nn.utils.clip_grad_norm_(model.parameters(), max_norm=1.0) # hack to avoid gradient explotion\n",
    "        optimizer.step()\n",
    "        scheduler.step()\n",
    "        optimizer.zero_grad()\n",
    "        # training loss and number of correct prediction\n",
    "        train_loss.append(loss.item())\n",
    "        correct_pred += torch.sum(pred_classes==targets)\n",
    "    return correct_pred / n_examples , np.mean(train_loss)"
   ]
  },
  {
   "cell_type": "code",
   "execution_count": 34,
   "id": "6f281505",
   "metadata": {},
   "outputs": [],
   "source": [
    "def eval_model(model, data_loader, criterian, BATCH_SIZE ,MAX_LEN, n_examples):\n",
    "    model.eval()  # to make model in evaluastion model , Dropout will not apply \n",
    "    eval_loss = []\n",
    "    correct_pred = 0\n",
    "    with torch.no_grad():  # calculation of gradient is not required on evaluation\n",
    "        for d in data_loader:\n",
    "            input_ids = d['input_id']\n",
    "            attention_masks = d['attention_mask']\n",
    "            targets = d['target']\n",
    "\n",
    "            # forward prop\n",
    "            predictions = model(input_ids , attention_masks)\n",
    "            loss = criterian(predictions, targets)\n",
    "            _,pred_classes = torch.max(predictions, dim=1)\n",
    "\n",
    "            eval_loss.append(loss.item())\n",
    "            correct_pred += torch.sum(pred_classes==targets)\n",
    "    return correct_pred / n_examples , np.mean(eval_loss)"
   ]
  },
  {
   "cell_type": "code",
   "execution_count": 35,
   "id": "adaadba8",
   "metadata": {},
   "outputs": [
    {
     "name": "stdout",
     "output_type": "stream",
     "text": [
      "Folder created: model/bert_sentiment/\n"
     ]
    }
   ],
   "source": [
    "import os\n",
    "\n",
    "folder_path = \"model/bert_sentiment/\"\n",
    "\n",
    "if not os.path.exists(folder_path):\n",
    "    os.makedirs(folder_path)\n",
    "    print(f\"Folder created: {folder_path}\")\n",
    "else:\n",
    "    print(f\"Folder already exists: {folder_path}\")"
   ]
  },
  {
   "cell_type": "code",
   "execution_count": 36,
   "id": "6f7d9717",
   "metadata": {},
   "outputs": [
    {
     "name": "stdout",
     "output_type": "stream",
     "text": [
      "epoch : 1/3\n"
     ]
    },
    {
     "name": "stderr",
     "output_type": "stream",
     "text": [
      "Some weights of the model checkpoint at bert-base-chinese were not used when initializing BertModel: ['cls.predictions.transform.dense.bias', 'cls.predictions.transform.LayerNorm.bias', 'cls.predictions.transform.LayerNorm.weight', 'cls.predictions.decoder.weight', 'cls.predictions.transform.dense.weight', 'cls.seq_relationship.weight', 'cls.seq_relationship.bias', 'cls.predictions.bias']\n",
      "- This IS expected if you are initializing BertModel from the checkpoint of a model trained on another task or with another architecture (e.g. initializing a BertForSequenceClassification model from a BertForPreTraining model).\n",
      "- This IS NOT expected if you are initializing BertModel from the checkpoint of a model that you expect to be exactly identical (initializing a BertForSequenceClassification model from a BertForSequenceClassification model).\n"
     ]
    },
    {
     "name": "stdout",
     "output_type": "stream",
     "text": [
      "train_loss: 1.1545452992121379, train_acc: 0.3687500059604645 ,val_loss: 1.0947777032852173, val_acc: 0.36666667461395264\n",
      "epoch : 2/3\n"
     ]
    },
    {
     "name": "stderr",
     "output_type": "stream",
     "text": [
      "Some weights of the model checkpoint at bert-base-chinese were not used when initializing BertModel: ['cls.predictions.transform.dense.bias', 'cls.predictions.transform.LayerNorm.bias', 'cls.predictions.transform.LayerNorm.weight', 'cls.predictions.decoder.weight', 'cls.predictions.transform.dense.weight', 'cls.seq_relationship.weight', 'cls.seq_relationship.bias', 'cls.predictions.bias']\n",
      "- This IS expected if you are initializing BertModel from the checkpoint of a model trained on another task or with another architecture (e.g. initializing a BertForSequenceClassification model from a BertForPreTraining model).\n",
      "- This IS NOT expected if you are initializing BertModel from the checkpoint of a model that you expect to be exactly identical (initializing a BertForSequenceClassification model from a BertForSequenceClassification model).\n"
     ]
    },
    {
     "name": "stdout",
     "output_type": "stream",
     "text": [
      "train_loss: 1.1904264827569326, train_acc: 0.35208332538604736 ,val_loss: 1.114891916513443, val_acc: 0.3499999940395355\n",
      "epoch : 3/3\n"
     ]
    },
    {
     "name": "stderr",
     "output_type": "stream",
     "text": [
      "Some weights of the model checkpoint at bert-base-chinese were not used when initializing BertModel: ['cls.predictions.transform.dense.bias', 'cls.predictions.transform.LayerNorm.bias', 'cls.predictions.transform.LayerNorm.weight', 'cls.predictions.decoder.weight', 'cls.predictions.transform.dense.weight', 'cls.seq_relationship.weight', 'cls.seq_relationship.bias', 'cls.predictions.bias']\n",
      "- This IS expected if you are initializing BertModel from the checkpoint of a model trained on another task or with another architecture (e.g. initializing a BertForSequenceClassification model from a BertForPreTraining model).\n",
      "- This IS NOT expected if you are initializing BertModel from the checkpoint of a model that you expect to be exactly identical (initializing a BertForSequenceClassification model from a BertForSequenceClassification model).\n"
     ]
    },
    {
     "name": "stdout",
     "output_type": "stream",
     "text": [
      "train_loss: 1.1797544320424398, train_acc: 0.31458333134651184 ,val_loss: 1.1074974238872528, val_acc: 0.3333333432674408\n"
     ]
    }
   ],
   "source": [
    "from collections import defaultdict\n",
    "\n",
    "history = defaultdict(list)\n",
    "best_accuracy = 0\n",
    "\n",
    "for epoch in range(EPOCHS):\n",
    "    # training part \n",
    "    print(f'epoch : {epoch+1}/{EPOCHS}')\n",
    "    model = SentimentClassifier(num_classes)\n",
    "    train_acc , train_loss = train_model(model,\n",
    "                                         train_loader,\n",
    "                                         criterian,\n",
    "                                         optimizer, \n",
    "                                         scheduler, \n",
    "                                         BATCH_SIZE,\n",
    "                                         MAX_LEN,\n",
    "                                         len(train_df))\n",
    "    # validation part\n",
    "    val_acc , val_loss = eval_model(model, \n",
    "                                    val_loader,\n",
    "                                    criterian,\n",
    "                                    BATCH_SIZE,\n",
    "                                    MAX_LEN, len(val_df))\n",
    "    \n",
    "    # saving training logs\n",
    "    history['train_acc'].append(train_acc)\n",
    "    history['train_loss'].append(train_loss)\n",
    "    history['val_acc'].append(val_acc)\n",
    "    history['val_loss'].append(val_loss)\n",
    "\n",
    "    print(f'train_loss: {train_loss}, train_acc: {train_acc} ,val_loss: {val_loss}, val_acc: {val_acc}')\n",
    "\n",
    "    # saving model if performance improved \n",
    "    if val_acc > best_accuracy:\n",
    "        best_model_name = f'model/bert_sentiment/best_model_state_{val_acc}.bin'\n",
    "        torch.save(model.state_dict(), best_model_name)\n",
    "        best_accuracy = val_acc"
   ]
  },
  {
   "cell_type": "code",
   "execution_count": 37,
   "id": "a5f9d5f0",
   "metadata": {},
   "outputs": [
    {
     "data": {
      "image/png": "[encoded data removed]",
      "text/plain": [
       "<Figure size 640x480 with 1 Axes>"
      ]
     },
     "metadata": {},
     "output_type": "display_data"
    }
   ],
   "source": [
    "import matplotlib.pyplot as plt\n",
    "\n",
    "# Extract the training accuracy values from history\n",
    "train_acc_values = history['train_acc']\n",
    "\n",
    "# Plot the training accuracy values\n",
    "plt.plot(train_acc_values)\n",
    "plt.title('Training Accuracy')\n",
    "plt.xlabel('Epoch')\n",
    "plt.ylabel('Accuracy')\n",
    "plt.show()"
   ]
  },
  {
   "cell_type": "code",
   "execution_count": 38,
   "id": "16ce1134",
   "metadata": {},
   "outputs": [
    {
     "data": {
      "image/png": "[encoded data removed]",
      "text/plain": [
       "<Figure size 640x480 with 1 Axes>"
      ]
     },
     "metadata": {},
     "output_type": "display_data"
    }
   ],
   "source": [
    "import matplotlib.pyplot as plt\n",
    "\n",
    "# Extract the training accuracy and loss values from history\n",
    "train_acc_values = history['train_acc']\n",
    "train_loss_values = history['train_loss']\n",
    "\n",
    "# Create a new figure and plot the training accuracy values\n",
    "fig, ax = plt.subplots()\n",
    "ax.plot(train_acc_values, label='Training Accuracy')\n",
    "ax.set_xlabel('Epoch')\n",
    "ax.set_ylabel('Accuracy')\n",
    "\n",
    "# Plot the training loss values on the same axis\n",
    "ax.plot(train_loss_values, label='Training Loss')\n",
    "ax.set_ylabel('Loss')\n",
    "\n",
    "# Add a title and legend to the plot\n",
    "ax.set_title('Training Metrics')\n",
    "ax.legend()\n",
    "\n",
    "# Display the plot\n",
    "plt.show()"
   ]
  },
  {
   "cell_type": "markdown",
   "id": "0febdf22",
   "metadata": {},
   "source": [
    "<a id=\"load_own_bert\"></a>\n",
    "## Load our own bert model"
   ]
  },
  {
   "cell_type": "code",
   "execution_count": 39,
   "id": "ed649c02",
   "metadata": {},
   "outputs": [
    {
     "name": "stderr",
     "output_type": "stream",
     "text": [
      "Some weights of the model checkpoint at bert-base-chinese were not used when initializing BertModel: ['cls.predictions.transform.dense.bias', 'cls.predictions.transform.LayerNorm.bias', 'cls.predictions.transform.LayerNorm.weight', 'cls.predictions.decoder.weight', 'cls.predictions.transform.dense.weight', 'cls.seq_relationship.weight', 'cls.seq_relationship.bias', 'cls.predictions.bias']\n",
      "- This IS expected if you are initializing BertModel from the checkpoint of a model trained on another task or with another architecture (e.g. initializing a BertForSequenceClassification model from a BertForPreTraining model).\n",
      "- This IS NOT expected if you are initializing BertModel from the checkpoint of a model that you expect to be exactly identical (initializing a BertForSequenceClassification model from a BertForSequenceClassification model).\n"
     ]
    },
    {
     "data": {
      "text/plain": [
       "<All keys matched successfully>"
      ]
     },
     "execution_count": 39,
     "metadata": {},
     "output_type": "execute_result"
    }
   ],
   "source": [
    "num_classes = 3\n",
    "model = SentimentClassifier(num_classes)\n",
    "model.load_state_dict(torch.load('model/bert_sentiment/best_model_state.bin', map_location=torch.device('cpu')))"
   ]
  },
  {
   "cell_type": "markdown",
   "id": "1d33bcd6",
   "metadata": {},
   "source": [
    "## Evaluation Final model on Test data"
   ]
  },
  {
   "cell_type": "code",
   "execution_count": 40,
   "id": "357aec67",
   "metadata": {},
   "outputs": [],
   "source": [
    "def get_predictions(model, data_loader):\n",
    "    model = model.eval()\n",
    "\n",
    "    review_texts = []\n",
    "    predictions = []\n",
    "    prediction_probs = []\n",
    "    real_values = []\n",
    "\n",
    "    with torch.no_grad():\n",
    "        for d in tqdm(data_loader):\n",
    "\n",
    "            texts = d[\"review\"]\n",
    "            input_ids = d[\"input_id\"]\n",
    "            attention_mask = d[\"attention_mask\"]\n",
    "            targets = d[\"target\"]\n",
    "\n",
    "            outputs = model(input_ids=input_ids,\n",
    "                            attention_mask=attention_mask)\n",
    "            \n",
    "            _, preds = torch.max(outputs, dim=1)\n",
    "\n",
    "            probs = F.softmax(outputs, dim=1)\n",
    "\n",
    "            review_texts.extend(texts)\n",
    "            predictions.extend(preds)\n",
    "            prediction_probs.extend(probs)\n",
    "            real_values.extend(targets)\n",
    "\n",
    "    predictions = torch.stack(predictions).cpu()\n",
    "    prediction_probs = torch.stack(prediction_probs).cpu()\n",
    "    real_values = torch.stack(real_values).cpu()\n",
    "    return review_texts, predictions, prediction_probs, real_values"
   ]
  },
  {
   "cell_type": "code",
   "execution_count": 41,
   "id": "8c393823",
   "metadata": {},
   "outputs": [
    {
     "name": "stderr",
     "output_type": "stream",
     "text": [
      "100%|████████████████████████████████████████████████████████████████████████████████████| 4/4 [00:02<00:00,  1.45it/s]\n"
     ]
    }
   ],
   "source": [
    "from tqdm import tqdm\n",
    "import torch.nn.functional as F\n",
    "\n",
    "y_review_texts, y_pred, y_pred_probs, y_test = get_predictions(model,test_loader)"
   ]
  },
  {
   "cell_type": "code",
   "execution_count": 42,
   "id": "e577a377",
   "metadata": {},
   "outputs": [
    {
     "name": "stdout",
     "output_type": "stream",
     "text": [
      "              precision    recall  f1-score   support\n",
      "\n",
      "    negative       0.44      0.55      0.49        20\n",
      "     neutral       0.00      0.00      0.00        20\n",
      "    positive       0.34      0.60      0.44        20\n",
      "\n",
      "    accuracy                           0.38        60\n",
      "   macro avg       0.26      0.38      0.31        60\n",
      "weighted avg       0.26      0.38      0.31        60\n",
      "\n"
     ]
    },
    {
     "name": "stderr",
     "output_type": "stream",
     "text": [
      "R:\\Anaconda3\\envs\\gpt\\lib\\site-packages\\sklearn\\metrics\\_classification.py:1318: UndefinedMetricWarning: Precision and F-score are ill-defined and being set to 0.0 in labels with no predicted samples. Use `zero_division` parameter to control this behavior.\n",
      "  _warn_prf(average, modifier, msg_start, len(result))\n",
      "R:\\Anaconda3\\envs\\gpt\\lib\\site-packages\\sklearn\\metrics\\_classification.py:1318: UndefinedMetricWarning: Precision and F-score are ill-defined and being set to 0.0 in labels with no predicted samples. Use `zero_division` parameter to control this behavior.\n",
      "  _warn_prf(average, modifier, msg_start, len(result))\n",
      "R:\\Anaconda3\\envs\\gpt\\lib\\site-packages\\sklearn\\metrics\\_classification.py:1318: UndefinedMetricWarning: Precision and F-score are ill-defined and being set to 0.0 in labels with no predicted samples. Use `zero_division` parameter to control this behavior.\n",
      "  _warn_prf(average, modifier, msg_start, len(result))\n"
     ]
    }
   ],
   "source": [
    "from sklearn.metrics import classification_report\n",
    "\n",
    "class_names = ['negative', 'neutral', 'positive']\n",
    "print(classification_report(y_test, y_pred, target_names=class_names))"
   ]
  },
  {
   "cell_type": "code",
   "execution_count": 43,
   "id": "4748cf24",
   "metadata": {},
   "outputs": [
    {
     "data": {
      "image/png": "[encoded data removed]",
      "text/plain": [
       "<Figure size 640x480 with 2 Axes>"
      ]
     },
     "metadata": {},
     "output_type": "display_data"
    }
   ],
   "source": [
    "import pandas as pd\n",
    "from sklearn.metrics import confusion_matrix\n",
    "def show_confusion_matrix(confusion_matrix):\n",
    "    hmap = sns.heatmap(confusion_matrix, annot=True, fmt=\"d\", cmap=\"Blues\")\n",
    "    hmap.yaxis.set_ticklabels(hmap.yaxis.get_ticklabels(), rotation=0, ha='right')\n",
    "    hmap.xaxis.set_ticklabels(hmap.xaxis.get_ticklabels(), rotation=30, ha='right')\n",
    "    plt.ylabel('True sentiment')\n",
    "    plt.xlabel('Predicted sentiment');\n",
    "\n",
    "cm = confusion_matrix(y_test, y_pred)\n",
    "df_cm = pd.DataFrame(cm, index=class_names, columns=class_names)\n",
    "show_confusion_matrix(df_cm)"
   ]
  },
  {
   "cell_type": "markdown",
   "id": "3d670b15",
   "metadata": {},
   "source": [
    "<a id=\"testing\"></a>\n",
    "## Testing model performance on unseen data"
   ]
  },
  {
   "cell_type": "code",
   "execution_count": 44,
   "id": "7c90923c",
   "metadata": {},
   "outputs": [],
   "source": [
    "### Predicting on Raw text data\n",
    "\n",
    "def get_sentiment(sample_review):\n",
    "    # get input ids and attention mask\n",
    "    encode_sample_review = tokenizer.encode_plus(\n",
    "                              sample_review,\n",
    "                              add_special_tokens=True,\n",
    "                              max_length=128,\n",
    "                              truncation=True,\n",
    "                              return_token_type_ids=False,\n",
    "                              pad_to_max_length=True,\n",
    "                              return_attention_mask=True,\n",
    "                              return_tensors='pt')\n",
    "\n",
    "    input_ids = encode_sample_review['input_ids']\n",
    "    attention_mask = encode_sample_review['attention_mask']\n",
    "    # predict output\n",
    "    output = model(input_ids, attention_mask)\n",
    "    _, prediction = torch.max(output, dim=1)\n",
    "    # output as probabilities\n",
    "    pred_probs = F.softmax(output,dim=1).detach().numpy().reshape(3)\n",
    "    \n",
    "    class_names = ['negative', 'neutral', 'positive']\n",
    "    data = {'class_names':class_names, \n",
    "            'value':pred_probs} \n",
    "\n",
    "    # Create DataFrame \n",
    "    df = pd.DataFrame(data)\n",
    "    # plot bars for probability of each sentiment\n",
    "    sns.barplot(x='value', y='class_names', data=df, orient='h')\n",
    "    plt.ylabel('sentiment')\n",
    "    plt.xlabel('probability')\n",
    "    plt.xlim([0, 1]);\n",
    "    print(f'Review text: {sample_review}')\n",
    "    print('=*'*50)\n",
    "\n",
    "    print(f'negative % : {pred_probs[0]:.4f}, neutral % : {pred_probs[1]:.4f}, positive % : {pred_probs[2]:.4f}')\n",
    "\n",
    "    print(f'Sentiment  : {class_names[prediction]}')"
   ]
  },
  {
   "cell_type": "code",
   "execution_count": 45,
   "id": "21380e17",
   "metadata": {},
   "outputs": [
    {
     "name": "stdout",
     "output_type": "stream",
     "text": [
      "Review text: UI很好用\n",
      "=*=*=*=*=*=*=*=*=*=*=*=*=*=*=*=*=*=*=*=*=*=*=*=*=*=*=*=*=*=*=*=*=*=*=*=*=*=*=*=*=*=*=*=*=*=*=*=*=*=*\n",
      "negative % : 0.3183, neutral % : 0.2992, positive % : 0.3825\n",
      "Sentiment  : positive\n"
     ]
    },
    {
     "name": "stderr",
     "output_type": "stream",
     "text": [
      "R:\\Anaconda3\\envs\\gpt\\lib\\site-packages\\transformers\\tokenization_utils_base.py:2370: FutureWarning: The `pad_to_max_length` argument is deprecated and will be removed in a future version, use `padding=True` or `padding='longest'` to pad to the longest sequence in the batch, or use `padding='max_length'` to pad to a max length. In this case, you can give a specific length with `max_length` (e.g. `max_length=45`) or leave max_length to None to pad to the maximal input size of the model (e.g. 512 for Bert).\n",
      "  FutureWarning,\n"
     ]
    },
    {
     "data": {
      "image/png": "[encoded data removed]",
      "text/plain": [
       "<Figure size 640x480 with 1 Axes>"
      ]
     },
     "metadata": {},
     "output_type": "display_data"
    }
   ],
   "source": [
    "sample_review = \"UI很好用\"\n",
    "\n",
    "get_sentiment(sample_review)"
   ]
  },
  {
   "cell_type": "code",
   "execution_count": null,
   "id": "644ee6ce",
   "metadata": {},
   "outputs": [],
   "source": []
  }
 ],
 "metadata": {
  "kernelspec": {
   "display_name": "uuunlp",
   "language": "python",
   "name": "uuunlp"
  },
  "language_info": {
   "codemirror_mode": {
    "name": "ipython",
    "version": 3
   },
   "file_extension": ".py",
   "mimetype": "text/x-python",
   "name": "python",
   "nbconvert_exporter": "python",
   "pygments_lexer": "ipython3",
   "version": "3.7.16"
  }
 },
 "nbformat": 4,
 "nbformat_minor": 5
}
